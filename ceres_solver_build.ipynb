{
  "cells": [
    {
      "cell_type": "markdown",
      "metadata": {
        "id": "view-in-github"
      },
      "source": [
        "[![Open In Colab](https://colab.research.google.com/assets/colab-badge.svg)](https://colab.research.google.com/github/camenduru/instant-ngp-colab/blob/main/ceres_solver_build.ipynb)"
      ]
    },
    {
      "cell_type": "code",
      "execution_count": null,
      "metadata": {
        "id": "s8gPpObADw6C"
      },
      "outputs": [],
      "source": [
        "!apt-get install \\\n",
        "    cmake \\\n",
        "    libgoogle-glog-dev \\\n",
        "    libgflags-dev \\\n",
        "    libatlas-base-dev \\\n",
        "    libeigen3-dev \\\n",
        "    libsuitesparse-dev \\\n",
        "    libboost-program-options-dev \\\n",
        "    libboost-filesystem-dev \\\n",
        "    libboost-graph-dev \\\n",
        "    libboost-system-dev \\\n",
        "    libboost-test-dev \\\n",
        "    libfreeimage-dev \\\n",
        "    libmetis-dev \\\n",
        "    libglew-dev \\\n",
        "    qtbase5-dev \\\n",
        "    libqt5opengl5-dev \\\n",
        "    libcgal-dev\n",
        "    \n",
        "!wget http://ceres-solver.org/ceres-solver-2.1.0.tar.gz"
      ]
    },
    {
      "cell_type": "code",
      "execution_count": null,
      "metadata": {
        "id": "jShBqZHuETy6"
      },
      "outputs": [],
      "source": [
        "%cd /content\n",
        "!tar zxf ceres-solver-2.1.0.tar.gz\n",
        "!mkdir ceres-bin\n",
        "%cd ceres-bin\n",
        "!cmake /content/ceres-solver-2.1.0 -DEXPORT_BUILD_DIR=ON -DBUILD_TESTING=OFF -DBUILD_EXAMPLES=OFF\n",
        "!make\n",
        "!make install"
      ]
    },
    {
      "cell_type": "code",
      "execution_count": null,
      "metadata": {
        "id": "gpLzKAB3KWZt"
      },
      "outputs": [],
      "source": [
        "%cd /content\n",
        "!apt install libflann-dev\n",
        "!git clone https://github.com/colmap/colmap.git\n",
        "%cd colmap\n",
        "!git checkout dev\n",
        "!mkdir build\n",
        "%cd build\n",
        "!cmake -DCMAKE_CUDA_ARCHITECTURES=\"75;80\" ..\n",
        "!sudo make install"
      ]
    },
    {
      "cell_type": "code",
      "execution_count": null,
      "metadata": {
        "id": "fSUzYEPGS6Bl"
      },
      "outputs": [],
      "source": [
        "!pip install huggingface-hub\n",
        "from huggingface_hub import create_repo, upload_folder\n",
        "hf_token = \"\"\n",
        "repo_id = \"camenduru/ceres-solver\"\n",
        "create_repo(repo_id, private=True, token=hf_token)\n",
        "upload_folder(folder_path=\"/content/build\", path_in_repo=\"\", repo_id=repo_id, commit_message=f\"ceres-solver and colmap\", token=hf_token)"
      ]
    }
  ],
  "metadata": {
    "accelerator": "GPU",
    "colab": {
      "provenance": []
    },
    "gpuClass": "standard",
    "kernelspec": {
      "display_name": "Python 3",
      "name": "python3"
    },
    "language_info": {
      "name": "python"
    }
  },
  "nbformat": 4,
  "nbformat_minor": 0
}
