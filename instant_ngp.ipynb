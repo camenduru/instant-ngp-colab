{
  "cells": [
    {
      "cell_type": "markdown",
      "metadata": {
        "id": "view-in-github"
      },
      "source": [
        "[![Open In Colab](https://colab.research.google.com/assets/colab-badge.svg)](https://colab.research.google.com/github/camenduru/instant-ngp-colab/blob/main/instant_ngp.ipynb)"
      ]
    },
    {
      "cell_type": "code",
      "execution_count": null,
      "metadata": {
        "id": "z6vdkVf8_kqk"
      },
      "outputs": [],
      "source": [
        "from google.colab import drive\n",
        "drive.mount('/content/drive')\n",
        "\n",
        "!apt-get install \\\n",
        "    cmake \\\n",
        "    libgoogle-glog-dev \\\n",
        "    libgflags-dev \\\n",
        "    libatlas-base-dev \\\n",
        "    libeigen3-dev \\\n",
        "    libsuitesparse-dev \\\n",
        "    libboost-program-options-dev \\\n",
        "    libboost-filesystem-dev \\\n",
        "    libboost-graph-dev \\\n",
        "    libboost-system-dev \\\n",
        "    libboost-test-dev \\\n",
        "    libfreeimage-dev \\\n",
        "    libmetis-dev \\\n",
        "    libglew-dev \\\n",
        "    qtbase5-dev \\\n",
        "    libqt5opengl5-dev \\\n",
        "    libcgal-dev\n",
        "\n",
        "!wget https://github.com/camenduru/instant-ngp-colab/releases/download/v1.0/ceres-solver.zip\n",
        "!unzip /content/ceres-solver.zip -d ceres-solver\n",
        "\n",
        "!cp -r /content/ceres-solver/lib/. /usr/local/lib\n",
        "!chmod 755 /content/ceres-solver/bin/colmap\n",
        "!cp -r /content/ceres-solver/bin/. /usr/local/bin\n",
        "\n",
        "!wget https://github.com/camenduru/instant-ngp-colab/releases/download/v1.0/instant-ngp-v1.zip\n",
        "!unzip /content/instant-ngp-v1.zip -d instant-ngp\n",
        "\n",
        "!pip install commentjson huggingface-hub\n",
        "%cd /content/instant-ngp\n",
        "import os\n",
        "from huggingface_hub import create_repo, upload_folder"
      ]
    },
    {
      "cell_type": "code",
      "execution_count": null,
      "metadata": {},
      "outputs": [],
      "source": [
        "scene_path = \"/content/drive/MyDrive/fox\" #@param {type:\"string\"}\n",
        "train_path = \"/content/train\"\n",
        "if not os.path.isdir(scene_path):\n",
        "  raise NotADirectoryError(scene_path)\n",
        "!rm -rf {train_path}\n",
        "!mkdir {train_path}\n",
        "!cp -r {scene_path}/. /content/train\n",
        "transforms_path = os.path.join(train_path, f\"transforms.json\")\n",
        "!python ./scripts/colmap2nerf.py --colmap_matcher exhaustive --run_colmap --aabb_scale 4 --images {train_path} --out {transforms_path}\n",
        "\n",
        "train_steps = 2000  #@param {type:\"integer\"}\n",
        "snapshot_path = os.path.join(train_path, f\"{train_steps}.msgpack\")\n",
        "!python ./scripts/run.py --scene {train_path} --mode nerf --n_steps {train_steps} --save_snapshot {snapshot_path}"
      ]
    },
    {
      "cell_type": "code",
      "execution_count": null,
      "metadata": {},
      "outputs": [],
      "source": [
        "hf_token = \"\" #@param {type:\"string\"}\n",
        "repo_id = \"camenduru/instant-ngp-models\" #@param {type:\"string\"}\n",
        "path_in_repo = \"fox\" #@param {type:\"string\"}\n",
        "create_repo(repo_id, private=True, token=hf_token)\n",
        "upload_folder(folder_path=train_path, path_in_repo=path_in_repo, repo_id=repo_id, commit_message=f\"{scene_path}\", token=hf_token)"
      ]
    }
  ],
  "metadata": {
    "accelerator": "GPU",
    "colab": {
      "provenance": []
    },
    "gpuClass": "standard",
    "kernelspec": {
      "display_name": "Python 3",
      "name": "python3"
    },
    "language_info": {
      "name": "python"
    }
  },
  "nbformat": 4,
  "nbformat_minor": 0
}
